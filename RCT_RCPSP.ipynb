{
 "cells": [
  {
   "cell_type": "code",
   "execution_count": 12,
   "metadata": {},
   "outputs": [],
   "source": [
    "import gurobipy as gp\n",
    "import numpy as np"
   ]
  },
  {
   "cell_type": "code",
   "execution_count": 13,
   "metadata": {},
   "outputs": [],
   "source": [
    "inst=\"13\"\n",
    "sample=\"2\"\n",
    "\n",
    "core=np.loadtxt(\"Instancias/rcpsp/Datos30/core\"+inst+sample+\".txt\", dtype='int')\n",
    "pred=np.loadtxt(\"Instancias/rcpsp/Datos30/pred\"+inst+sample+\".txt\", dtype='int')\n",
    "dur=np.loadtxt(\"Instancias/rcpsp/Datos30/dura\"+inst+sample+\".txt\", dtype='int')\n",
    "recu=np.loadtxt(\"Instancias/rcpsp/Datos30/recu\"+inst+sample+\".txt\", dtype='int')\n"
   ]
  },
  {
   "cell_type": "code",
   "execution_count": 14,
   "metadata": {},
   "outputs": [],
   "source": [
    "J=[dur[i][0] for i in range(len(dur))]\n",
    "n=len(J)\n",
    "H=pred-1\n",
    "d=[dur[i][1] for i in range(len(dur))]\n",
    "K=recu[-1][0]\n",
    "R=[recu[i][1] for i in range(len(recu))]\n",
    "r=[[core[4*i+j][2] for j in range(K)] for i in range(n)]\n",
    "es=[0 for i in range(n)]\n",
    "Cmax=sum(d)\n",
    "ls=[60 for i in range(n)]"
   ]
  },
  {
   "cell_type": "code",
   "execution_count": 116,
   "metadata": {},
   "outputs": [],
   "source": [
    "P=np.zeros((n,n))\n",
    "for h in range(len(H)):\n",
    "    P[H[h,0],H[h,1]]=1"
   ]
  },
  {
   "cell_type": "code",
   "execution_count": 117,
   "metadata": {},
   "outputs": [],
   "source": [
    "for j in range(n):\n",
    "    es[j] = 0\n",
    "    for i in range(j):\n",
    "        if P[i,j] == 1:\n",
    "            if es[j] < es[i] + d[i]:\n",
    "                es[j] = es[i] + d[i]\n",
    "\n",
    "for i in range(n-1,-1,-1):\n",
    "    ls[i] = Cmax\n",
    "    for j in range(i+1,n):\n",
    "        if P[i,j] == 1:\n",
    "            if ls[i] > ls[j] - d[i]:\n",
    "                ls[i] = ls[j] - d[i]"
   ]
  },
  {
   "cell_type": "code",
   "execution_count": 118,
   "metadata": {},
   "outputs": [],
   "source": [
    "RTC=gp.Model(\"Resource Constrained Project Scheduling Problem\")\n",
    "\n",
    "x=RTC.addVars(n,n, vtype=gp.GRB.BINARY, name='x')\n",
    "y=RTC.addVars(n,n, vtype=gp.GRB.BINARY, name='y')\n",
    "S=RTC.addVars(n, vtype=gp.GRB.CONTINUOUS, name='S')"
   ]
  },
  {
   "cell_type": "code",
   "execution_count": 119,
   "metadata": {},
   "outputs": [
    {
     "data": {
      "text/plain": [
       "<bound method Model.update of <gurobi.Model Continuous instance Resource Constrained Project Scheduling Problem: 0 constrs, 0 vars, No parameter changes>>"
      ]
     },
     "execution_count": 119,
     "metadata": {},
     "output_type": "execute_result"
    }
   ],
   "source": [
    "RTC.setObjective(S[n-1], gp.GRB.MINIMIZE)\n",
    "\n",
    "RTC.addConstrs((x[i,j]+x[j,i] <= 1  for i in range(n)\n",
    "                                    for j in range(n)\n",
    "                                    if i<j))\n",
    "\n",
    "RTC.addConstrs((S[j]>= S[i] + d[i]-Cmax*(1-x[i,j])   for i in range(n)\n",
    "                                                    for j in range(n)))\n",
    "\n",
    "RTC.addConstrs((x[i,j] == 1 for i,j in H))\n",
    "\n",
    "RTC.addConstr(S[0] == 0)\n",
    "\n",
    "RTC.addConstrs(S[i] >= es[i] for i in range(n))\n",
    "RTC.addConstrs((S[i] <= ls[i] for i in range(n)))\n",
    "\n",
    "RTC.addConstrs((y[i,j]<=1-x[i,j]-x[j,i] for i in range(n)\n",
    "                                        for j in range(n)))\n",
    "\n",
    "RTC.addConstrs((S[i]<=S[j]+Cmax*(1-y[i,j])  for i in range(n)\n",
    "                                            for j in range(n)))\n",
    "\n",
    "RTC.addConstrs((S[i]+d[i]>=S[j]-Cmax*(1-y[i,j]) for i in range(n)\n",
    "                                                for j in range(n)))\n",
    "\n",
    "RTC.addConstrs((y[i,j]+y[j,i]+x[i,j]+x[j,i]>=1  for i in range(n)\n",
    "                                                for j in range(n)\n",
    "                                                if i<j))\n",
    "\n",
    "RTC.addConstrs((r[i][k]+sum(r[j][k]*y[j,i] for j in range(n) if j!=i)<=R[k] for i in range(n)\n",
    "                                                                            for k in range(K)))\n",
    "\n",
    "RTC.update"
   ]
  },
  {
   "cell_type": "code",
   "execution_count": null,
   "metadata": {},
   "outputs": [],
   "source": [
    "RTC.setParam('OutputFlag',False)\n",
    "RTC.setParam(gp.GRB.Param.TimeLimit,600)\n",
    "RTC.optimize()\n",
    "print(RTC.ObjVal)"
   ]
  },
  {
   "cell_type": "code",
   "execution_count": null,
   "metadata": {},
   "outputs": [],
   "source": [
    "print(\"Objective = \",RTC.objVal)\n",
    "print(\"Gap = \",RTC.MIPGap*100)\n",
    "print(\"Running time = \",RTC.Runtime)\n",
    "# for v in RTC.getVars():\n",
    "#     if v.X > 0.1:\n",
    "#         print('%s: %g' % (v.varName, v.x))\n",
    "# print(Cmax)"
   ]
  },
  {
   "cell_type": "code",
   "execution_count": 5,
   "metadata": {},
   "outputs": [
    {
     "name": "stdout",
     "output_type": "stream",
     "text": [
      "Set parameter Username\n",
      "Academic license - for non-commercial use only - expires 2024-08-16\n",
      "58.0\n",
      "59.0\n",
      "55.0\n",
      "48.0\n",
      "44.99999900459898\n",
      "50.99999999999998\n",
      "63.0\n",
      "48.0\n",
      "65.0\n",
      "57.0\n",
      "63.0\n",
      "54.0\n",
      "50.0\n",
      "57.0\n",
      "58.0\n",
      "58.0\n",
      "55.0\n",
      "44.0\n",
      "59.0\n",
      "54.0\n"
     ]
    }
   ],
   "source": [
    "opt=0\n",
    "#gaps=[]\n",
    "#objs=[]\n",
    "for m in range(47,49):\n",
    "    for n in range(1,11):\n",
    "        inst=str(m)+str(n)\n",
    "\n",
    "        core=np.loadtxt(\"Instancias/rcpsp/Datos30/core\"+inst+\".txt\", dtype='int')\n",
    "        pred=np.loadtxt(\"Instancias/rcpsp/Datos30/pred\"+inst+\".txt\", dtype='int')\n",
    "        dur=np.loadtxt(\"Instancias/rcpsp/Datos30/dura\"+inst+\".txt\", dtype='int')\n",
    "        recu=np.loadtxt(\"Instancias/rcpsp/Datos30/recu\"+inst+\".txt\", dtype='int')\n",
    "\n",
    "        J=[dur[i][0] for i in range(len(dur))]\n",
    "        n=len(J)\n",
    "        H=pred-1\n",
    "        d=[dur[i][1] for i in range(len(dur))]\n",
    "        K=recu[-1][0]\n",
    "        R=[recu[i][1] for i in range(len(recu))]\n",
    "        r=[[core[4*i+j][2] for j in range(K)] for i in range(n)]\n",
    "        es=[0 for i in range(n)]\n",
    "        ls=[sum(d) for i in range(n)]\n",
    "        Cmax=sum(d)\n",
    "\n",
    "        RTC=gp.Model(\"Resource Constrained Project Scheduling Problem\")\n",
    "\n",
    "        x=RTC.addVars(n,n, vtype=gp.GRB.BINARY, name='x')\n",
    "        y=RTC.addVars(n,n, vtype=gp.GRB.BINARY, name='y')\n",
    "        S=RTC.addVars(n, vtype=gp.GRB.CONTINUOUS, name='S')\n",
    "\n",
    "        RTC.setObjective(S[n-1], gp.GRB.MINIMIZE)\n",
    "\n",
    "        RTC.addConstrs((x[i,j]+x[j,i] <= 1  for i in range(n)\n",
    "                                            for j in range(n)\n",
    "                                            if i<j))\n",
    "\n",
    "        RTC.addConstrs((S[j]>= S[i] + d[i]-Cmax*(1-x[i,j])   for i in range(n)\n",
    "                                                            for j in range(n)))\n",
    "\n",
    "        RTC.addConstrs((x[i,j] == 1 for i,j in H))\n",
    "\n",
    "        RTC.addConstr(S[0] == 0)\n",
    "\n",
    "        RTC.addConstrs((es[i] <= S[i] for i in range(n)))\n",
    "        RTC.addConstrs((S[i] <= ls[i] for i in range(n)))\n",
    "\n",
    "        RTC.addConstrs((y[i,j]<=1-x[i,j]-x[j,i] for i in range(n)\n",
    "                                                for j in range(n)))\n",
    "\n",
    "        RTC.addConstrs((S[i]<=S[j]+Cmax*(1-y[i,j])  for i in range(n)\n",
    "                                                    for j in range(n)))\n",
    "\n",
    "        RTC.addConstrs((S[i]+d[i]>=S[j]-Cmax*(1-y[i,j]) for i in range(n)\n",
    "                                                        for j in range(n)))\n",
    "\n",
    "        RTC.addConstrs((y[i,j]+y[j,i]+x[i,j]+x[j,i]>=1  for i in range(n)\n",
    "                                                        for j in range(n)\n",
    "                                                        if i<j))\n",
    "\n",
    "        RTC.addConstrs((r[i][k]+sum(r[j][k]*y[j,i] for j in range(n) if j!=i)<=R[k] for i in range(n)\n",
    "                                                                                    for k in range(K)))\n",
    "\n",
    "        RTC.setParam('OutputFlag',False)\n",
    "        RTC.optimize()\n",
    "        if RTC.Status == gp.GRB.OPTIMAL:\n",
    "            opt+=1\n",
    "        print(RTC.ObjVal)\n",
    "        #gaps=gaps+[RTC.MIPGap]\n",
    "        #objs=objs+[RTC.ObjVal]"
   ]
  },
  {
   "cell_type": "code",
   "execution_count": 1,
   "metadata": {},
   "outputs": [
    {
     "ename": "NameError",
     "evalue": "name 'opt' is not defined",
     "output_type": "error",
     "traceback": [
      "\u001b[1;31m---------------------------------------------------------------------------\u001b[0m",
      "\u001b[1;31mNameError\u001b[0m                                 Traceback (most recent call last)",
      "\u001b[1;32mc:\\Users\\pipeh\\OneDrive\\Documents\\Eafit\\7mo semestre\\PI1\\RCT_RCPSP.ipynb Cell 9\u001b[0m in \u001b[0;36m<cell line: 2>\u001b[1;34m()\u001b[0m\n\u001b[0;32m      <a href='vscode-notebook-cell:/c%3A/Users/pipeh/OneDrive/Documents/Eafit/7mo%20semestre/PI1/RCT_RCPSP.ipynb#X13sZmlsZQ%3D%3D?line=0'>1</a>\u001b[0m total\u001b[39m=\u001b[39m\u001b[39m48\u001b[39m\u001b[39m*\u001b[39m\u001b[39m10\u001b[39m\n\u001b[1;32m----> <a href='vscode-notebook-cell:/c%3A/Users/pipeh/OneDrive/Documents/Eafit/7mo%20semestre/PI1/RCT_RCPSP.ipynb#X13sZmlsZQ%3D%3D?line=1'>2</a>\u001b[0m \u001b[39mprint\u001b[39m(total,opt)\n",
      "\u001b[1;31mNameError\u001b[0m: name 'opt' is not defined"
     ]
    }
   ],
   "source": [
    "total=48*10\n",
    "print(total,opt)"
   ]
  }
 ],
 "metadata": {
  "kernelspec": {
   "display_name": "Python 3",
   "language": "python",
   "name": "python3"
  },
  "language_info": {
   "codemirror_mode": {
    "name": "ipython",
    "version": 3
   },
   "file_extension": ".py",
   "mimetype": "text/x-python",
   "name": "python",
   "nbconvert_exporter": "python",
   "pygments_lexer": "ipython3",
   "version": "3.10.5"
  }
 },
 "nbformat": 4,
 "nbformat_minor": 2
}
