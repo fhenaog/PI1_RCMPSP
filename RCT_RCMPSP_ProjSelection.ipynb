{
 "cells": [
  {
   "cell_type": "code",
   "execution_count": 34,
   "metadata": {},
   "outputs": [],
   "source": [
    "import gurobipy as gp\n",
    "import numpy as np"
   ]
  },
  {
   "cell_type": "code",
   "execution_count": 35,
   "metadata": {},
   "outputs": [],
   "source": [
    "inst=\"1\"\n",
    "P=2 #number of projects\n",
    "core=[]\n",
    "pred=[]\n",
    "dur=[]\n",
    "recu=[]\n",
    "for i in range(P):\n",
    "    sample=str(i+1)\n",
    "    core.append(np.loadtxt(\"Instancias/rcpsp/Datos30/core\"+inst+sample+\".txt\", dtype='int'))\n",
    "    pred.append(np.loadtxt(\"Instancias/rcpsp/Datos30/pred\"+inst+sample+\".txt\", dtype='int'))\n",
    "    dur.append(np.loadtxt(\"Instancias/rcpsp/Datos30/dura\"+inst+sample+\".txt\", dtype='int'))\n",
    "    recu.append(np.loadtxt(\"Instancias/rcpsp/Datos30/recu\"+inst+sample+\".txt\", dtype='int'))"
   ]
  },
  {
   "cell_type": "code",
   "execution_count": 36,
   "metadata": {},
   "outputs": [
    {
     "name": "stdout",
     "output_type": "stream",
     "text": [
      "158\n",
      "160\n"
     ]
    }
   ],
   "source": [
    "J=[]\n",
    "n=[]\n",
    "H=[]\n",
    "d=[]\n",
    "K=0\n",
    "r=[]\n",
    "es=[]\n",
    "ls=[]\n",
    "Tmax=0\n",
    "for p in range(P):\n",
    "    K=max(K,recu[p][-1][0]) \n",
    "for p in range(P):\n",
    "    J.append([dur[p][i][0] for i in range(len(dur[p]))])\n",
    "    n.append(len(J[p]))\n",
    "    Hr=pred[p]-1\n",
    "    d.append([dur[p][i][1] for i in range(len(dur[p]))])    \n",
    "    r.append([[core[p][4*i+j][2] for j in range(K)] for i in range(n[p])])\n",
    "    es.append([0 for i in range(n[p])])\n",
    "    Tmax=Tmax+sum(d[p]) \n",
    "    print(sum(d[p]))   \n",
    "    Pr=np.zeros((n[p],n[p]))\n",
    "    for h in range(len(Hr)):\n",
    "        Pr[Hr[h,0],Hr[h,1]]=1\n",
    "    H.append(Pr)\n",
    "K=int(K)\n",
    "R=[0 for _ in range(K)]\n",
    "for k in range(K):\n",
    "    for p in range(P):        \n",
    "        R[k]=max(R[k],recu[p][k][1])\n",
    "\n",
    "Cmax=[]\n",
    "for p in range(P):\n",
    "    ls.append([Tmax for i in range(n[p])])\n",
    "    Cmax.append(47)\n",
    "    \n",
    "c=[0 for _ in range(K)]\n",
    "w=[3 for _ in range(P)]"
   ]
  },
  {
   "cell_type": "code",
   "execution_count": 37,
   "metadata": {},
   "outputs": [],
   "source": [
    "for p in range(P):\n",
    "    Pr=H[p]\n",
    "\n",
    "    for j in range(n[p]):\n",
    "        es[p][j] = 0\n",
    "        for i in range(j):\n",
    "            if Pr[i,j] == 1:\n",
    "                if es[p][j] < es[p][i] + d[p][i]:\n",
    "                    es[p][j] = es[p][i] + d[p][i]\n",
    "\n",
    "    for i in range(n[p]-1,-1,-1):\n",
    "        ls[p][i] = Cmax[p]\n",
    "        for j in range(i+1,n[p]):\n",
    "            if Pr[i,j] == 1:\n",
    "                if ls[p][i] > ls[p][j] - d[p][i]:\n",
    "                    ls[p][i] = ls[p][j] - d[p][i]"
   ]
  },
  {
   "cell_type": "code",
   "execution_count": 38,
   "metadata": {},
   "outputs": [],
   "source": [
    "RTC=gp.Model(\"Resource Constrained Project Scheduling Problem\")\n",
    "\n",
    "x=RTC.addVars([(i,p,j,p2) for p in range(P)\n",
    "                                 for p2 in range(P)\n",
    "                                 for i in range(n[p])\n",
    "                                 for j in range(n[p2])], vtype=gp.GRB.BINARY, name='x')\n",
    "y=RTC.addVars([(i,p,j,p2) for p in range(P)\n",
    "                                 for p2 in range(P)\n",
    "                                 for i in range(n[p])\n",
    "                                 for j in range(n[p2])], vtype=gp.GRB.BINARY, name='y')\n",
    "S=RTC.addVars([(i,p) for p in range(P)\n",
    "                        for i in range(n[p])], vtype=gp.GRB.CONTINUOUS, name='S')\n",
    "z=RTC.addVars(P, vtype=gp.GRB.BINARY, name='h')"
   ]
  },
  {
   "cell_type": "code",
   "execution_count": 39,
   "metadata": {},
   "outputs": [
    {
     "data": {
      "text/plain": [
       "<bound method Model.update of <gurobi.Model Continuous instance Resource Constrained Project Scheduling Problem: 0 constrs, 0 vars, Parameter changes: Username=(user-defined)>>"
      ]
     },
     "execution_count": 39,
     "metadata": {},
     "output_type": "execute_result"
    }
   ],
   "source": [
    "RTC.setObjective(sum(w[p]*z[p] for p in range(P)) - sum(c[k] for k in range(K)), gp.GRB.MAXIMIZE)\n",
    "\n",
    "RTC.addConstrs((x[i,p,j,p2]+x[j,p2,i,p] <= z[p]  for p in range(P)\n",
    "                                    for p2 in range(P)\n",
    "                                    for i in range(n[p])\n",
    "                                    for j in range(n[p2])\n",
    "                                    if (H[p][i,j]==0 and p==p2) or p!=p2))\n",
    "RTC.addConstrs((x[i,p,j,p2]+x[j,p2,i,p] <= z[p2]  for p in range(P)\n",
    "                                    for p2 in range(P)\n",
    "                                    for i in range(n[p])\n",
    "                                    for j in range(n[p2])\n",
    "                                    if (H[p][i,j]==0 and p==p2) or p!=p2))\n",
    "\n",
    "RTC.addConstrs((S[j,p2]>= S[i,p] + d[p][i]-Cmax[p]*(1-x[i,p,j,p2]) for p in range(P)\n",
    "                                                    for p2 in range(P)\n",
    "                                                    for i in range(n[p])\n",
    "                                                    for j in range(n[p2])\n",
    "                                                    if i!=j or p!=p2))\n",
    "\n",
    "RTC.addConstrs((x[i,p,j,p] == z[p] for p in range(P)\n",
    "                                for i in range(n[p])\n",
    "                                for j in range(n[p])\n",
    "                                if i<j and H[p][i,j]==1))\n",
    "\n",
    "RTC.addConstrs((S[0,p] == 0 for p in range(P)))\n",
    "RTC.addConstrs((S[n[p]-1,p] <= Cmax[p] for p in range(P)))\n",
    "RTC.addConstrs((S[i,p] + d[p][i] <= Cmax[p] for p in range(P)\n",
    "                                            for i in range(n[p])))\n",
    "\n",
    "RTC.addConstrs((S[i,p] >= es[p][i]*z[p] for p in range(P)\n",
    "                                for i in range(n[p])))\n",
    "RTC.addConstrs((S[i,p] <= ls[p][i]*z[p] for p in range(P)\n",
    "                                for i in range(n[p])))\n",
    "\n",
    "RTC.addConstrs((y[i,p,j,p2]<=z[p]-x[i,p,j,p2]-x[j,p2,i,p] for p in range(P)\n",
    "                                        for p2 in range(P)\n",
    "                                        for i in range(n[p])\n",
    "                                        for j in range(n[p2])\n",
    "                                        if i!=j or p!=p2))\n",
    "\n",
    "RTC.addConstrs((y[i,p,j,p2]<=z[p] for p in range(P)\n",
    "                                for p2 in range(P)\n",
    "                                for i in range(n[p])\n",
    "                                for j in range(n[p2])\n",
    "                                if i!=j or p!=p2))\n",
    "RTC.addConstrs((y[i,p,j,p2]<=z[p2] for p in range(P)\n",
    "                                for p2 in range(P)\n",
    "                                for i in range(n[p])\n",
    "                                for j in range(n[p2])\n",
    "                                if i!=j or p!=p2))\n",
    "\n",
    "RTC.addConstrs((S[j,p2]>=S[i,p]-Cmax[p]*(1-y[i,p,j,p2])  for p in range(P)\n",
    "                                                        for p2 in range(P)\n",
    "                                                        for i in range(n[p])\n",
    "                                                        for j in range(n[p2])\n",
    "                                                        if i!=j or p!=p2))\n",
    "\n",
    "RTC.addConstrs((S[j,p2]<=S[i,p]+d[p][i]+Cmax[p]*(1-y[i,p,j,p2]) for p in range(P)\n",
    "                                                            for p2 in range(P)\n",
    "                                                            for i in range(n[p])\n",
    "                                                            for j in range(n[p2])\n",
    "                                                            if i!=j or p!=p2))\n",
    "\n",
    "RTC.addConstrs((y[i,p,j,p2]+y[j,p2,i,p]+x[i,p,j,p2]+x[j,p2,i,p]>=-1+z[p]+z[p2]  for p in range(P)\n",
    "                                                for p2 in range(P)\n",
    "                                                for i in range(n[p])\n",
    "                                                for j in range(n[p2])\n",
    "                                                if i!=j or p!=p2))\n",
    "\n",
    "RTC.addConstrs((r[p][i][k]+sum(r[p][j][k]*y[j,p,i,p] for j in range(n[p]) if j!=i)\n",
    "                 + sum(sum(r[p2][j][k]*y[j,p2,i,p] for j in range(n[p2]))for p2 in range(P) if p2!=p)\n",
    "                <=R[k] for p in range(P)\n",
    "                                                                            for i in range(n[p])\n",
    "                                                                            for k in range(K)))\n",
    "\n",
    "RTC.update"
   ]
  },
  {
   "cell_type": "code",
   "execution_count": 40,
   "metadata": {},
   "outputs": [
    {
     "name": "stdout",
     "output_type": "stream",
     "text": [
      "3.0\n"
     ]
    }
   ],
   "source": [
    "RTC.setParam('OutputFlag',False)\n",
    "RTC.setParam(gp.GRB.Param.TimeLimit,600)\n",
    "RTC.optimize()\n",
    "print(RTC.objVal)"
   ]
  },
  {
   "cell_type": "code",
   "execution_count": null,
   "metadata": {},
   "outputs": [],
   "source": [
    "print(\"Objective = \",RTC.objVal)\n",
    "print(\"Gap = \",RTC.MIPGap*100)\n",
    "print(\"Running time = \",RTC.Runtime)\n",
    "print(h)\n",
    "for v in RTC.getVars():\n",
    "    if v.X > 0.1:\n",
    "        print('%s: %g' % (v.varName, v.x))\n",
    "#print(Cmax)"
   ]
  }
 ],
 "metadata": {
  "kernelspec": {
   "display_name": "Python 3",
   "language": "python",
   "name": "python3"
  },
  "language_info": {
   "codemirror_mode": {
    "name": "ipython",
    "version": 3
   },
   "file_extension": ".py",
   "mimetype": "text/x-python",
   "name": "python",
   "nbconvert_exporter": "python",
   "pygments_lexer": "ipython3",
   "version": "3.10.5"
  },
  "orig_nbformat": 4
 },
 "nbformat": 4,
 "nbformat_minor": 2
}
